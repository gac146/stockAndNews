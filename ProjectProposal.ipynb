{
 "cells": [
  {
   "cell_type": "markdown",
   "metadata": {},
   "source": [
    "# COGS 108 - Project Proposal"
   ]
  },
  {
   "cell_type": "markdown",
   "metadata": {},
   "source": [
    "## Important\n",
    "\n",
    "- Make sure all group members (3-5 people) are listed in the group members section.\n",
    "- ONE, and only one, member of your group should upload this notebook to TritonED. \n",
    "- Each member of the group will receive the same grade on this assignment. \n",
    "- Keep the file name the same: submit the file 'ProjectProposal.ipynb'"
   ]
  },
  {
   "cell_type": "markdown",
   "metadata": {},
   "source": [
    "## Overview"
   ]
  },
  {
   "cell_type": "markdown",
   "metadata": {},
   "source": [
    "Read the project description and detailed instructions for this assignment in the 'ProjectOutline' document."
   ]
  },
  {
   "cell_type": "markdown",
   "metadata": {},
   "source": [
    "## Group Members: Fill in the Student IDs of each group member here\n",
    "\n",
    "Replace the lines below to list each persons full student ID. Add lines as needed for your group size, and make sure each ID is listed on a separate line. \n",
    "\n",
    "Gustavo Carbone, Chris Chen, Alec Flowers, Yang Liu, Christopher Yoon, Andy Kong\n",
    "\n",
    "- A12771118\n",
    "- A13453170\n",
    "- A12150565\n",
    "- A15342355\n",
    "- A13012818\n",
    "- A12468923"
   ]
  },
  {
   "cell_type": "markdown",
   "metadata": {},
   "source": [
    "### Research Question\n",
    "\n",
    "What is your research question? (1-2 sentences)"
   ]
  },
  {
   "cell_type": "markdown",
   "metadata": {},
   "source": [
    "We want to see how positive/negative keywords in news titles correlate with the stock price of that company during a period where external economic factors are at minimum. "
   ]
  },
  {
   "cell_type": "markdown",
   "metadata": {},
   "source": [
    "### Hypothesis\n",
    "\n",
    "What is your main hypothesis and predictions? (2-3 sentences)"
   ]
  },
  {
   "cell_type": "markdown",
   "metadata": {},
   "source": [
    "Our hypothesis would be that a positive sentiment in in news titles would correlate with an increase in stock price, while negative sentiment in the news would correlate with a decrease in stock price. We predict that there will be a strong correlation between the two because we believe that the news encompasses many of the factors surrounding a company that then directly affects investors decisions on whether to purchase or sell. "
   ]
  },
  {
   "cell_type": "markdown",
   "metadata": {},
   "source": [
    "### Dataset(s)\n",
    "\n",
    "What data will you use to answer your question? Describe the dataset(s) in terms of number of observations, what kind of features it contains, etc. You must use at least one dataset containing at least approximately 1000 observations (if your data are smaller but you feel they are sufficient, email Prof. Voytek). You are welcome (and in fact recommended) to find multiple datasets! If you do so, describe each one, and briefly explain how you will combine them together. "
   ]
  },
  {
   "cell_type": "markdown",
   "metadata": {},
   "source": [
    "<strong/>Dataset Name:</strong> Yahoo Finance <br/>\n",
    "<strong/>Link:</strong>  https://finance.yahoo.com/ <br/>\n",
    "<strong/>Number of Observations:</strong> Yahoo Finance provides information about the stock price of any company as long as they are public. We could get datasets for a particular company(ies) that contain the stock prices(opening/closing and high/low) by dates. Depending on what frequency of observations we want this could contain many thousands of observations. \n",
    "\n",
    "We will also scrape Yahoo Finance for news article titles related to the company's that we are looking at. For preliminary analysis we will pick a company from the major 3 indices Nasdaq, Dow Jones, and S&P 500. This dataset will contain the title of the articles, date published, and site published on. \n",
    "\n",
    "We will analyze the stock price and articles of a company over a certain period of time (3 months, 6 months) to make sure we reach a dataset that has a size >1000. \n"
   ]
  },
  {
   "cell_type": "markdown",
   "metadata": {},
   "source": [
    "### Background and Prior Work\n",
    "\n",
    "Why is this question of interest, what background information led you to your hypothesis, and why is this important?\n",
    "\n",
    "Find some relevant prior work, and reference those sources. Even if you think you have a totally novel question, find the most similar prior work that you can and discuss how it relates to your project. \n",
    "\n",
    "References can be research publications, but they need not be. Blogs, github repositories, company websites, etc., are all viable references if they are relevant to your project.\n",
    "\n",
    "(2-3 paragraphs, including at least 2 references)"
   ]
  },
  {
   "cell_type": "markdown",
   "metadata": {},
   "source": [
    "The stock market allows companies to raise money by offering stock shares and in return, investors get to participate in the companies for benefits of making money through the dividends, shares pay out, and by selling stocks at a profit. Measured value of stocks is a source of data to gauge the well-being of the United States economy (Investopedia). Because any trade (buy or sell) is reflected in real-time, there is no particular way to know the value of the stocks until after each trade has occurred. Thus, any information to predict the direction of a company’s stock is extremely advantageous. Information about companies is most commonly reported via new media and then spread on the Internet. When any news striking event happens, whether that’s earning reports or announcement of a new product, media outlets would most likely cover that event. That means that the amount of attention towards that particular company would increase, generating interest to buy or sell. As Investopedia explains, negative news will normally cause individuals to sell stocks and positive news will cause individuals to buy stocks. <br/>\n",
    "A paper by Gusev and Kroujiline et al., “Predictable markets? A news‐driven model of the stock market” discusses the predictability of stock markets via a news-driven model. They found that the\tstock market\tdynamics can be explained in terms of the interaction\tamong three variables: direct information, investor sentiment and market price. Our project explores the relationship between two of these variables which may inseparably be related to investor sentiment. They also noted that the coupling of price and information creates feedback, whereby information causes price changes and price changes generate information. \n",
    "\n",
    "References (include links):\n",
    "- 1) https://arxiv.org/pdf/1610.09225.pdf\n",
    "\n",
    "- 2) https://arxiv.org/pdf/1010.3003&\n"
   ]
  },
  {
   "cell_type": "markdown",
   "metadata": {},
   "source": [
    "### Proposed Methods\n",
    "\n",
    "What methods will you use to analyze your data?\n",
    "\n",
    "- How 'clean' is the data? To the extent that it requires cleaning, how will you do so?\n",
    "- How will you analyze the data? Be as specific as you can. Briefly mention any pre-processing steps that are required for your methods (for example, checking data distributions and performing any transformations that may be required). Include a brief outline of how you will apply your chosen method(s). \n",
    "- What do you plan to report? Briefly mention any key visualizations you plan to create, and/or the kind of results you will be able to report that address your question (this could be, for example, the outcome of some statistical test(s), prediction error on a model, a model fit parameter, etc.).\n",
    "- Include a list of packages you expect to use for you project. If you plan to use packages we have not used in class, add a very brief description about them (a few words is sufficient). "
   ]
  },
  {
   "cell_type": "markdown",
   "metadata": {},
   "source": [
    "*Fill in your proposed methods information here:*\n",
    "\n",
    "*Data Cleaning (2-3 sentences)* <br/>\n",
    "To clean our stock price data we don't want or need the data at too granular of a level at say by the second price. So we will need to average out this data over a time frame that fits our needs (by hour). For our media title data we will need to scrape the web page and connect to an API and clean out any extraneous data besides the article title, company it is talking about, date published, and site published on. We will either use Beautifulsoup to scrape the news site or an API to pull the data and then use a Pandas dataframe to store and then delete out extraneous data like we have been taught in class. \n",
    "\n",
    "*Data Analysis (1-2 paragraphs)* <br/>\n",
    "We will recognize data that involve all kinds of mentioning about a company by parsing the data string and searching for the keywords about a company (name, ticker, website domain, it’s products, and words that have positive/negative connotations ...). We will also calculate the derivative (how rapid the stock value changes) specifically on each point of day (by finite difference method or provided) by Finite Difference or other straightforward mathematical methods depending on the complexity of data we fetched and cleaned. We store the data in pandas dataframe, indexed by time or the frequency a company appears on social media as they are the independent variables of our data visualizations (see below). Time axis should be preferably a uniformly segmented timeline (by days/half days) for simple organization and understandability. \n",
    "To classify our data as either positive or negative we are going to build two dictionaries.\n",
    "One of the dictionaries will have words with a positive connotation and the other one with negative connotation. We will get news articles titles (tweets, and other social media posts) that mention the companies we are trying to analyze and we'll run them through our dictionaries. Depending on the ratio of positive to negative words found, we would classify them as negative or positive. \n",
    "\n",
    "*What to report (2-3 sentences)* <br/>\n",
    "We plan to report what type of correlation there is between positive/negative news articles and the fluctuation in stock price. The key visualization involves: 1) the mentioning positive frequency/negative/total frequency vs. time graph, 2) the change of stock price vs. time graph, and 3) the change of stock price vs. frequency graph for the companies we research. The key analytical conclusion involves model fit parameter for graph 3 and other statistical parameters such as R-square, t-value, p-value etc. that contribute to the resulting findings. \n",
    "\n",
    "Packages we plan to use: <br/>\n",
    "Matplotlib (or d3.js) - to visualize data <br/>\n",
    "Pandas - to store data (nicely) <br/>\n",
    "Numpy - to do mathematical analysis <br/>\n",
    "Scipy - to calculate pearsonr correlation <br/>\n",
    "Patsy (statsmodels.api) - to form linear modeling <br/>\n",
    "BeautifulSoup - to scrape data <br/>\n",
    "API’s - to authenticate connection and fetch data from <br/>"
   ]
  },
  {
   "cell_type": "markdown",
   "metadata": {},
   "source": [
    "### Ethics and Privacy\n",
    "\n",
    "Briefly acknowledge and address any potential issues of ethics and privacy for the proposed project. In particular:\n",
    "- Do you have permission to use this data, for this purpose?\n",
    "- Are there privacy concerns regarding your datasets that you need to deal with, and/or terms of use that you need to comply with?\n",
    "- Are there potential biases in your dataset(s), in terms of who it composes, and how it was collected, that may be problematic in terms of it allowing for equitable analysis? (For example, does your data exclude particular populations, or is it likely to reflect particular human biases in a way that could be a problem?) \n",
    "- Are there any other issues related to your topic area, data, and/or analyses that are potentially problematic in terms of data privacy and equitable impact?\n",
    "- How will you handle any issues you identify?\n",
    "\n",
    "Although we would be scraping data from Yahoo Finance and potentially other news sites which are public domains, it may be an issue to include the company names and possible email addresses associated with these companies. Therefore, it could be handled by anonymizing the data with the SafeHarbor method and simply associating these trends solely by assigning a company to a number, and only the frequency of mentions and its fluctuation on stock prices as variables.<br/>\n",
    "As we’d also be needing to scrape thousands of datasets per request of the project, it is also important to note that Yahoo Finance may take notice of the scraping of large datasets and possibly mistake it for malicious intent or a DDoS attack. Therefore it is important to scrape the data at a reasonably paced rate to not raise any flags on their detection systems as well as affect their server’s performance.\n"
   ]
  },
  {
   "cell_type": "markdown",
   "metadata": {},
   "source": [
    "### Discussion\n",
    "\n",
    "Discuss your project, looking forward to what your results might mean, how they fit it in with what is already known, and what problems you may encounter. \n",
    "\n",
    "In particular:\n",
    "- If your analyses and hypotheses are correct, what will be the contribution of this project to the topic domain? \n",
    "- Alternatively, what will you do if you methods don't work and/or your hypotheses are wrong? \n",
    "- What are the potential pitfalls and potential confounds of your data and/or methods that may cause problems, and/or influence your interpretations?\n",
    "\n",
    "(2-3 paragraphs)"
   ]
  },
  {
   "cell_type": "markdown",
   "metadata": {},
   "source": [
    "The results of our analysis may help us better understand the connection between media reports and stock price. The results of this project may give the stock market society an advantageous prediction for near future trends. If there is a rise in positive headlines, then it may be a good idea to start investing in a company. If there is a rise in negative headlines, then it may be a good idea to sell the current holdings in preparation for a drop. In addition, we may be able to discover the extent of the effect social buzz has on stock prices/investments. We might also be able to pinpoint certain factors to shed some light as to how or why there is such an effect (e.g. “Does the media mostly report on companies in a positive light?”, “Does the media have interests to report on companies positively?”). If there is no strong correlation between social buzz and stock price, then similarly we might discover why social buzz does not have a strong effect on stock prices. <br/>\n",
    "If our hypothesis is wrong or shows up to be inconclusive then it is possible that our classification of positive/negative sentiment was wrong and we would have to re-evaluate how we are classifying words. It also could have been that just looking at the news titles doesn't provide enough insight into the actual article or what that piece of news is actually reporting so we might have to scrape entire news articles instead. Basically we would have to broaden our scope in order to figure out where our problem is coming from. <br/>\n",
    "There are some potential pitfalls that might create problems. The data that we use might be skewed by the time period. For example, we might pick data in which there was a “craze” towards investing at the time. We may also unintentionally have too many companies centered around certain industries in our dataset. Certain factors affecting some industries may wrongly influence other industries. Certain trends in the media/reporting may impact our data. For example, if bad news about one company led to the entire industry declining slightly in stock prices. We also have to be careful with how we classify positive and negative correlation and to make sure we have a robust enough database in order to classify a large number of articles. \n"
   ]
  }
 ],
 "metadata": {
  "kernelspec": {
   "display_name": "Python 3",
   "language": "python",
   "name": "python3"
  },
  "language_info": {
   "codemirror_mode": {
    "name": "ipython",
    "version": 3
   },
   "file_extension": ".py",
   "mimetype": "text/x-python",
   "name": "python",
   "nbconvert_exporter": "python",
   "pygments_lexer": "ipython3",
   "version": "3.6.3"
  }
 },
 "nbformat": 4,
 "nbformat_minor": 2
}
